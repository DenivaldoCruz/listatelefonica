{
 "cells": [
  {
   "cell_type": "code",
   "execution_count": 2,
   "metadata": {},
   "outputs": [],
   "source": [
    "spark = SparkSession \\\n",
    "    .builder \\\n",
    "    .appName(\"Python Spark SQL Compras\") \\\n",
    "    .config(\"spark.some.config.option\", \"some-value\") \\\n",
    "    .getOrCreate()"
   ]
  },
  {
   "cell_type": "code",
   "execution_count": 16,
   "metadata": {},
   "outputs": [],
   "source": [
    "# spark is an existing SparkSession\n",
    "df = spark.read.format(\"csv\") \\\n",
    "                .option(\"header\", \"true\") \\\n",
    "                .option(\"delimiter\", \";\") \\\n",
    "                .load(\"compras.txt\")\n"
   ]
  },
  {
   "cell_type": "code",
   "execution_count": 17,
   "metadata": {},
   "outputs": [
    {
     "name": "stdout",
     "output_type": "stream",
     "text": [
      "+----------+--------+--------------+-----------------+------+----------+\n",
      "|      Data|    Hora|        Cidade|          Produto| Valor|FormaPagto|\n",
      "+----------+--------+--------------+-----------------+------+----------+\n",
      "|2015-01-01|09:00:00|     Sao Paulo|Roupas masculinas|214.05|      Amex|\n",
      "|2015-01-01|09:00:00|Rio de Janeiro| Roupas femininas|153.57|      Visa|\n",
      "|2015-01-01|09:00:00|      Curitiba|           Musica| 66.08|  Dinheiro|\n",
      "|2015-01-01|09:00:00|Belo Horizonte|              Pet|493.51|      Visa|\n",
      "|2015-01-01|09:00:00|       Aracaju|  Roupas infantis|235.63|MasterCard|\n",
      "|2015-01-01|09:00:00|      Salvador|Roupas masculinas|247.18|MasterCard|\n",
      "|2015-01-01|09:00:00|      Campinas|          Cameras| 379.6|      Visa|\n",
      "|2015-01-01|09:00:00|     Sao Paulo|      Eletronicos| 296.8|  Dinheiro|\n",
      "|2015-01-01|09:00:00|      Londrina|       Brinquedos| 25.38|      Visa|\n",
      "|2015-01-01|09:00:00|Rio de Janeiro|       Brinquedos|213.88|      Visa|\n",
      "|2015-01-01|09:00:00|     Sao Paulo|      Video Games| 53.26|      Visa|\n",
      "|2015-01-01|09:00:00|     Sao Paulo|      Video Games| 39.75|  Dinheiro|\n",
      "|2015-01-01|09:00:00|      Campinas|          Cameras|469.63|MasterCard|\n",
      "|2015-01-01|09:00:00|      Ourinhos|             DVDs|290.82|MasterCard|\n",
      "|2015-01-01|09:00:00|Rio de Janeiro|           Musica|260.65|      Visa|\n",
      "|2015-01-01|09:00:00|      Brasilia|           Jardim| 136.9|      Visa|\n",
      "|2015-01-01|09:00:00|  Porto Alegre| Roupas femininas|483.82|      Visa|\n",
      "|2015-01-01|09:00:00|     Sao Paulo| Roupas femininas|215.82|  Dinheiro|\n",
      "|2015-01-01|09:00:00|       Maringa|          Cameras|418.94|      Amex|\n",
      "|2015-01-01|09:00:00| Florianopolis|  Roupas infantis|309.16|      Visa|\n",
      "+----------+--------+--------------+-----------------+------+----------+\n",
      "only showing top 20 rows\n",
      "\n"
     ]
    }
   ],
   "source": [
    "# Displays the content of the DataFrame to stdout\n",
    "df.show()"
   ]
  },
  {
   "cell_type": "code",
   "execution_count": 18,
   "metadata": {},
   "outputs": [
    {
     "name": "stdout",
     "output_type": "stream",
     "text": [
      "+-------+----------+--------+--------+-----------+------------------+----------+\n",
      "|summary|      Data|    Hora|  Cidade|    Produto|             Valor|FormaPagto|\n",
      "+-------+----------+--------+--------+-----------+------------------+----------+\n",
      "|  count|   1000000| 1000000| 1000000|    1000000|           1000000|   1000000|\n",
      "|   mean|      null|    null|    null|       null|250.15969356334065|      null|\n",
      "| stddev|      null|    null|    null|       null| 144.2829122143926|      null|\n",
      "|    min|2015-01-01|09:00:00|Alvorada| Artesanato|                 0|      Amex|\n",
      "|    max|2015-03-30|17:59:00| Vitoria|Video Games|             99.99|      Visa|\n",
      "+-------+----------+--------+--------+-----------+------------------+----------+\n",
      "\n"
     ]
    }
   ],
   "source": [
    "df.describe().show()"
   ]
  },
  {
   "cell_type": "code",
   "execution_count": 11,
   "metadata": {},
   "outputs": [
    {
     "name": "stdout",
     "output_type": "stream",
     "text": [
      "root\n",
      " |-- _c0: string (nullable = true)\n",
      "\n"
     ]
    }
   ],
   "source": [
    "# spark, df are from the previous example\n",
    "# Print the schema in a tree format\n",
    "df.printSchema()"
   ]
  },
  {
   "cell_type": "code",
   "execution_count": 20,
   "metadata": {},
   "outputs": [
    {
     "name": "stdout",
     "output_type": "stream",
     "text": [
      "+----------+--------+--------------+-----------------+------+----------+\n",
      "|      Data|    Hora|        Cidade|          Produto| Valor|FormaPagto|\n",
      "+----------+--------+--------------+-----------------+------+----------+\n",
      "|2015-01-01|09:00:00|     Sao Paulo|Roupas masculinas|214.05|      Amex|\n",
      "|2015-01-01|09:00:00|Rio de Janeiro| Roupas femininas|153.57|      Visa|\n",
      "|2015-01-01|09:00:00|      Curitiba|           Musica| 66.08|  Dinheiro|\n",
      "|2015-01-01|09:00:00|Belo Horizonte|              Pet|493.51|      Visa|\n",
      "|2015-01-01|09:00:00|       Aracaju|  Roupas infantis|235.63|MasterCard|\n",
      "|2015-01-01|09:00:00|      Salvador|Roupas masculinas|247.18|MasterCard|\n",
      "|2015-01-01|09:00:00|      Campinas|          Cameras| 379.6|      Visa|\n",
      "|2015-01-01|09:00:00|     Sao Paulo|      Eletronicos| 296.8|  Dinheiro|\n",
      "|2015-01-01|09:00:00|      Londrina|       Brinquedos| 25.38|      Visa|\n",
      "|2015-01-01|09:00:00|Rio de Janeiro|       Brinquedos|213.88|      Visa|\n",
      "+----------+--------+--------------+-----------------+------+----------+\n",
      "only showing top 10 rows\n",
      "\n"
     ]
    }
   ],
   "source": [
    "df.show(10)"
   ]
  },
  {
   "cell_type": "code",
   "execution_count": 23,
   "metadata": {},
   "outputs": [],
   "source": [
    "# Creates a temporary view using the DataFrame\n",
    "df.createOrReplaceTempView(\"Compras\")"
   ]
  },
  {
   "cell_type": "code",
   "execution_count": 29,
   "metadata": {},
   "outputs": [],
   "source": [
    "# SQL can be run over DataFrames that have been registered as a table.\n",
    "compras = spark.sql(\"SELECT Cidade FROM Compras\")"
   ]
  },
  {
   "cell_type": "code",
   "execution_count": 30,
   "metadata": {},
   "outputs": [
    {
     "name": "stdout",
     "output_type": "stream",
     "text": [
      "+--------------+\n",
      "|        Cidade|\n",
      "+--------------+\n",
      "|     Sao Paulo|\n",
      "|Rio de Janeiro|\n",
      "|      Curitiba|\n",
      "|Belo Horizonte|\n",
      "|       Aracaju|\n",
      "|      Salvador|\n",
      "|      Campinas|\n",
      "|     Sao Paulo|\n",
      "|      Londrina|\n",
      "|Rio de Janeiro|\n",
      "|     Sao Paulo|\n",
      "|     Sao Paulo|\n",
      "|      Campinas|\n",
      "|      Ourinhos|\n",
      "|Rio de Janeiro|\n",
      "|      Brasilia|\n",
      "|  Porto Alegre|\n",
      "|     Sao Paulo|\n",
      "|       Maringa|\n",
      "| Florianopolis|\n",
      "+--------------+\n",
      "only showing top 20 rows\n",
      "\n"
     ]
    }
   ],
   "source": [
    "compras.show()"
   ]
  },
  {
   "cell_type": "code",
   "execution_count": 38,
   "metadata": {},
   "outputs": [],
   "source": [
    " comprasAmex = spark.sql(\"SELECT * FROM Compras WHERE FormaPagto='Visa'\")"
   ]
  },
  {
   "cell_type": "code",
   "execution_count": 39,
   "metadata": {},
   "outputs": [
    {
     "name": "stdout",
     "output_type": "stream",
     "text": [
      "+----------+--------+--------------+----------------+------+----------+\n",
      "|      Data|    Hora|        Cidade|         Produto| Valor|FormaPagto|\n",
      "+----------+--------+--------------+----------------+------+----------+\n",
      "|2015-01-01|09:00:00|Rio de Janeiro|Roupas femininas|153.57|      Visa|\n",
      "|2015-01-01|09:00:00|Belo Horizonte|             Pet|493.51|      Visa|\n",
      "|2015-01-01|09:00:00|      Campinas|         Cameras| 379.6|      Visa|\n",
      "|2015-01-01|09:00:00|      Londrina|      Brinquedos| 25.38|      Visa|\n",
      "|2015-01-01|09:00:00|Rio de Janeiro|      Brinquedos|213.88|      Visa|\n",
      "|2015-01-01|09:00:00|     Sao Paulo|     Video Games| 53.26|      Visa|\n",
      "|2015-01-01|09:00:00|Rio de Janeiro|          Musica|260.65|      Visa|\n",
      "|2015-01-01|09:00:00|      Brasilia|          Jardim| 136.9|      Visa|\n",
      "|2015-01-01|09:00:00|  Porto Alegre|Roupas femininas|483.82|      Visa|\n",
      "|2015-01-01|09:00:00| Florianopolis| Roupas infantis|309.16|      Visa|\n",
      "+----------+--------+--------------+----------------+------+----------+\n",
      "only showing top 10 rows\n",
      "\n"
     ]
    }
   ],
   "source": [
    "comprasAmex.show(10)"
   ]
  },
  {
   "cell_type": "code",
   "execution_count": 46,
   "metadata": {},
   "outputs": [],
   "source": [
    " comprasAgrupadasPorCidadeEProduto = spark.sql(\"SELECT Cidade, Produto, SUM(Valor) AS Total FROM Compras GROUP BY Cidade, Produto ORDER BY Cidade, Total DESC\")"
   ]
  },
  {
   "cell_type": "code",
   "execution_count": 48,
   "metadata": {},
   "outputs": [
    {
     "name": "stdout",
     "output_type": "stream",
     "text": [
      "+--------------+-----------------+------------------+\n",
      "|        Cidade|          Produto|             Total|\n",
      "+--------------+-----------------+------------------+\n",
      "|      Alvorada|  Roupas infantis|         272187.44|\n",
      "|      Alvorada|           Musica|         142340.19|\n",
      "|      Alvorada|              Pet|142288.91999999998|\n",
      "|      Alvorada|      Eletronicos|141403.83999999997|\n",
      "|      Alvorada|              CDs|141069.50999999998|\n",
      "|      Alvorada|       Brinquedos|140814.51000000004|\n",
      "|      Alvorada|             DVDs|140263.55000000002|\n",
      "|      Alvorada|       Artesanato|139969.58000000002|\n",
      "|      Alvorada| Roupas femininas|138878.38999999998|\n",
      "|      Alvorada|   Saude e beleza|         136908.63|\n",
      "|      Alvorada|          Cameras|134084.87000000002|\n",
      "|      Alvorada|Roupas masculinas|133671.43000000002|\n",
      "|      Alvorada|     Computadores|133586.27000000002|\n",
      "|      Alvorada|      Video Games|132411.46000000002|\n",
      "|      Alvorada|           Livros|         130861.86|\n",
      "|      Alvorada|         Esportes|128682.92999999998|\n",
      "|      Alvorada|           Jardim|124030.08000000002|\n",
      "|     Americana|  Roupas infantis| 272371.0099999999|\n",
      "|     Americana|         Esportes|147756.25000000006|\n",
      "|     Americana|             DVDs|142848.77999999997|\n",
      "|     Americana|              CDs|141638.48000000004|\n",
      "|     Americana|Roupas masculinas|141472.66000000003|\n",
      "|     Americana|           Jardim|141010.23000000004|\n",
      "|     Americana|           Livros|135339.04000000004|\n",
      "|     Americana|      Eletronicos|135270.18000000002|\n",
      "|     Americana|          Cameras|134953.28999999998|\n",
      "|     Americana|              Pet|         134350.78|\n",
      "|     Americana|      Video Games|130632.57999999999|\n",
      "|     Americana|       Artesanato|128790.84999999998|\n",
      "|     Americana| Roupas femininas|127405.54000000001|\n",
      "|     Americana|     Computadores|126313.31000000003|\n",
      "|     Americana|       Brinquedos|          125500.3|\n",
      "|     Americana|           Musica|         123013.97|\n",
      "|     Americana|   Saude e beleza|120793.81000000001|\n",
      "|Angra dos Reis|  Roupas infantis|         286476.88|\n",
      "|Angra dos Reis|   Saude e beleza|         151375.29|\n",
      "|Angra dos Reis|Roupas masculinas|         145997.59|\n",
      "|Angra dos Reis|           Livros|142254.49000000002|\n",
      "|Angra dos Reis|           Musica|141942.27000000005|\n",
      "|Angra dos Reis|          Cameras|         140522.93|\n",
      "|Angra dos Reis|      Eletronicos|          139294.7|\n",
      "|Angra dos Reis|      Video Games|138995.31000000003|\n",
      "|Angra dos Reis|              Pet|         135915.73|\n",
      "|Angra dos Reis| Roupas femininas|135085.30000000005|\n",
      "|Angra dos Reis|         Esportes|         133966.97|\n",
      "|Angra dos Reis|       Brinquedos|133870.75999999998|\n",
      "|Angra dos Reis|             DVDs|         132273.94|\n",
      "|Angra dos Reis|           Jardim|131630.86000000002|\n",
      "|Angra dos Reis|              CDs|131102.99000000002|\n",
      "|Angra dos Reis|       Artesanato|         127950.48|\n",
      "|Angra dos Reis|     Computadores|121912.36999999997|\n",
      "|       Aracaju|  Roupas infantis|279384.14999999997|\n",
      "|       Aracaju|         Esportes|146456.08000000002|\n",
      "|       Aracaju| Roupas femininas|144612.46000000002|\n",
      "|       Aracaju|              Pet|143112.59000000003|\n",
      "|       Aracaju|       Brinquedos|140036.51000000004|\n",
      "|       Aracaju|      Eletronicos|139205.18000000002|\n",
      "|       Aracaju|           Livros|137714.27000000002|\n",
      "|       Aracaju|           Jardim|         137524.06|\n",
      "|       Aracaju|          Cameras|137374.36000000002|\n",
      "|       Aracaju|Roupas masculinas|         136665.56|\n",
      "|       Aracaju|              CDs|135978.09000000003|\n",
      "|       Aracaju|   Saude e beleza|         134461.57|\n",
      "|       Aracaju|             DVDs|         133045.19|\n",
      "|       Aracaju|           Musica|132990.81999999998|\n",
      "|       Aracaju|      Video Games|130850.88999999997|\n",
      "|       Aracaju|     Computadores|128579.65000000001|\n",
      "|       Aracaju|       Artesanato|         128541.96|\n",
      "|     Aracatuba|  Roupas infantis|256492.71000000005|\n",
      "|     Aracatuba| Roupas femininas|143373.03999999998|\n",
      "|     Aracatuba|      Eletronicos|141356.86000000004|\n",
      "|     Aracatuba|       Artesanato|139746.47999999992|\n",
      "|     Aracatuba|         Esportes|         138988.89|\n",
      "|     Aracatuba|              CDs|138829.41000000003|\n",
      "|     Aracatuba|     Computadores|         138116.12|\n",
      "|     Aracatuba|          Cameras|137653.34000000003|\n",
      "|     Aracatuba|      Video Games|         136721.86|\n",
      "|     Aracatuba|           Jardim|         136598.39|\n",
      "|     Aracatuba|              Pet|136514.22999999998|\n",
      "|     Aracatuba|       Brinquedos|136162.00999999995|\n",
      "|     Aracatuba|           Musica|135741.02000000002|\n",
      "|     Aracatuba|Roupas masculinas|135351.25000000003|\n",
      "|     Aracatuba|             DVDs|         133678.64|\n",
      "|     Aracatuba|   Saude e beleza|         133403.99|\n",
      "|     Aracatuba|           Livros|131285.06000000003|\n",
      "|   Barra Mansa|  Roupas infantis| 276998.1899999999|\n",
      "|   Barra Mansa|      Eletronicos|154686.06999999998|\n",
      "|   Barra Mansa|           Musica|143865.00999999998|\n",
      "|   Barra Mansa|     Computadores|         141921.88|\n",
      "|   Barra Mansa|          Cameras|         141692.24|\n",
      "|   Barra Mansa| Roupas femininas|         140866.56|\n",
      "|   Barra Mansa|       Artesanato|140765.96999999997|\n",
      "|   Barra Mansa|   Saude e beleza|140633.70000000004|\n",
      "|   Barra Mansa|         Esportes|138305.67999999996|\n",
      "|   Barra Mansa|             DVDs|         137940.76|\n",
      "|   Barra Mansa|           Jardim|137287.73999999996|\n",
      "|   Barra Mansa|              CDs|136703.44999999998|\n",
      "|   Barra Mansa|              Pet|         135837.39|\n",
      "|   Barra Mansa|       Brinquedos|133546.02999999997|\n",
      "|   Barra Mansa|           Livros|         132069.27|\n",
      "+--------------+-----------------+------------------+\n",
      "only showing top 100 rows\n",
      "\n"
     ]
    }
   ],
   "source": [
    "comprasPorCidadeEProduto.show(100)"
   ]
  },
  {
   "cell_type": "code",
   "execution_count": 59,
   "metadata": {},
   "outputs": [],
   "source": [
    "# Creates a temporary view using the DataFrame\n",
    "comprasAgrupadasPorCidadeEProduto.createOrReplaceTempView(\"ComprasAgrupadas\")"
   ]
  },
  {
   "cell_type": "code",
   "execution_count": 88,
   "metadata": {},
   "outputs": [],
   "source": [
    "produtosMaisVendidosPorCidade = spark.sql(\"SELECT Cidade, Produto, Total FROM ComprasAgrupadas T1 WHERE EXISTS (SELECT 1 AS Total FROM ComprasAgrupadas T2 WHERE T2.Cidade = T1.Cidade GROUP BY Cidade HAVING MAX(T2.Total) = T1.Total)\")"
   ]
  },
  {
   "cell_type": "code",
   "execution_count": 90,
   "metadata": {},
   "outputs": [
    {
     "name": "stdout",
     "output_type": "stream",
     "text": [
      "+-------------------+-----------------+------------------+\n",
      "|             Cidade|          Produto|             Total|\n",
      "+-------------------+-----------------+------------------+\n",
      "|           Alvorada|  Roupas infantis|         272187.44|\n",
      "|          Americana|  Roupas infantis| 272371.0099999999|\n",
      "|     Angra dos Reis|  Roupas infantis|         286476.88|\n",
      "|            Aracaju|  Roupas infantis|279384.14999999997|\n",
      "|          Aracatuba|  Roupas infantis|256492.71000000005|\n",
      "|        Barra Mansa|  Roupas infantis| 276998.1899999999|\n",
      "|            Barueri|  Roupas infantis|         272080.05|\n",
      "|              Bauru|  Roupas infantis|270793.58999999997|\n",
      "|              Belem|  Roupas infantis|270546.40000000014|\n",
      "|     Belo Horizonte|  Roupas infantis|268459.77999999997|\n",
      "|          Boa Vista|  Roupas infantis|268096.23000000004|\n",
      "|           Brasilia|  Roupas infantis|261432.73000000004|\n",
      "|          Cabo Frio|  Roupas infantis| 537187.2599999999|\n",
      "|           Campinas|  Roupas infantis| 563500.2699999998|\n",
      "|       Campo Grande|  Roupas infantis| 262539.8600000001|\n",
      "|           Cascavel|  Roupas infantis|272128.41000000003|\n",
      "|             Caxias|  Roupas infantis| 267334.2799999999|\n",
      "|            Chapeco|  Roupas infantis|270546.44000000006|\n",
      "|            Colombo|  Roupas infantis| 807409.1299999997|\n",
      "|              Cotia|  Roupas infantis|265914.76000000007|\n",
      "|           Criciuma|  Roupas infantis|266227.70999999996|\n",
      "|             Cuiaba|  Roupas infantis|         272521.78|\n",
      "|           Curitiba|  Roupas infantis|258458.44000000006|\n",
      "|            Diadema|  Roupas infantis|266947.24000000005|\n",
      "|           Dourados|  Roupas infantis|         263925.75|\n",
      "|      Florianopolis|  Roupas infantis|268772.37000000005|\n",
      "|          Fortaleza|  Roupas infantis|269415.92999999993|\n",
      "|      Foz do Iguacu|  Roupas infantis|259873.50999999992|\n",
      "|             Franca|  Roupas infantis|269553.81999999983|\n",
      "|            Goiania|  Roupas infantis|         256548.87|\n",
      "|           Gravatai|  Roupas infantis|         268199.39|\n",
      "|            Guaruja|  Roupas infantis|         257633.24|\n",
      "|          Guarulhos|  Roupas infantis| 533482.1399999999|\n",
      "|             Ilheus|  Roupas infantis|         253200.27|\n",
      "|            Itabuna|  Roupas infantis|         265479.44|\n",
      "|             Itajai|  Roupas infantis|264899.25000000006|\n",
      "|            Itapevi|  Roupas infantis|         273276.78|\n",
      "|                Itu|  Roupas infantis|295489.54999999993|\n",
      "|                Jau|  Roupas infantis| 289584.8400000001|\n",
      "|          Joinville|  Roupas infantis|262781.45000000007|\n",
      "|           Juazeiro|  Roupas infantis|         255937.18|\n",
      "|       Juiz de Fora|  Roupas infantis|268822.22000000003|\n",
      "|            Jundiai|  Roupas infantis| 284684.2200000001|\n",
      "|              Lages|  Roupas infantis| 277698.1000000001|\n",
      "|           Linhares|  Roupas infantis|          271106.7|\n",
      "|           Londrina|  Roupas infantis|1061310.2700000003|\n",
      "|              Macae|  Roupas infantis|285332.58999999997|\n",
      "|             Macapa|  Roupas infantis|         272681.89|\n",
      "|             Maceio|  Roupas infantis|267407.94000000006|\n",
      "|             Manaus|Roupas masculinas|            370.55|\n",
      "|           Maranhao|  Roupas infantis| 263443.3900000002|\n",
      "|            Maringa|  Roupas infantis| 540900.4600000002|\n",
      "|               Maua|  Roupas infantis|         258563.69|\n",
      "|            Mossoro|  Roupas infantis| 267259.7899999999|\n",
      "|            Niteroi|  Roupas infantis|         269752.08|\n",
      "|      Nova Friburgo|  Roupas infantis|272256.14999999985|\n",
      "|             Olinda|  Roupas infantis|285761.92000000004|\n",
      "|             Osasco|  Roupas infantis|         274777.94|\n",
      "|           Ourinhos|  Roupas infantis|257189.77000000008|\n",
      "|             Palmas|  Roupas infantis|277556.80000000005|\n",
      "|        Passo Fundo|  Roupas infantis| 280597.4499999999|\n",
      "|            Pelotas|  Roupas infantis|          273229.2|\n",
      "|         Petropolis|  Roupas infantis|         254902.87|\n",
      "|       Porto Alegre|  Roupas infantis|         266614.24|\n",
      "|        Porto Velho|  Roupas infantis| 269569.2800000001|\n",
      "|Presidente Prudente|  Roupas infantis|270205.70999999996|\n",
      "|             Recife|  Roupas infantis|         266990.42|\n",
      "|          Rio Claro|  Roupas infantis|         287905.97|\n",
      "|     Rio de Janeiro|  Roupas infantis| 795713.0400000003|\n",
      "|           Salvador|  Roupas infantis|276333.13999999996|\n",
      "|        Santa Maria|  Roupas infantis|276613.34000000014|\n",
      "|        Santo Andre|  Roupas infantis|         294035.94|\n",
      "|             Santos|  Roupas infantis| 523049.3300000001|\n",
      "|         Sao Carlos|  Roupas infantis|         255469.76|\n",
      "|           Sao Jose|  Roupas infantis| 282459.0100000001|\n",
      "|          Sao Paulo|  Roupas infantis|1621408.7799999989|\n",
      "|        Sao Vicente|  Roupas infantis|265652.32000000007|\n",
      "|              Serra|  Roupas infantis|         266220.16|\n",
      "|        Sete Lagoas|  Roupas infantis|         250387.92|\n",
      "|             Sobral|  Roupas infantis|          274606.9|\n",
      "|           Sorocaba|  Roupas infantis|279832.44999999995|\n",
      "|             Sumare|  Roupas infantis|259609.61000000004|\n",
      "|            Taubate|  Roupas infantis|         538797.84|\n",
      "|           Teresina|  Roupas infantis|278420.36999999994|\n",
      "|            Uberaba|  Roupas infantis|273072.04000000004|\n",
      "|            Vitoria|  Roupas infantis|         262998.45|\n",
      "+-------------------+-----------------+------------------+\n",
      "\n"
     ]
    }
   ],
   "source": [
    "produtosMaisVendidosPorCidade.show(100)"
   ]
  },
  {
   "cell_type": "code",
   "execution_count": 91,
   "metadata": {},
   "outputs": [],
   "source": [
    "produtosMaisVendidosPorCidade.coalesce(1).write.option(\"header\", \"true\").csv(\"produto_mais_vendido_por_cidade_df\")"
   ]
  }
 ],
 "metadata": {
  "kernelspec": {
   "display_name": "Python 3",
   "language": "python",
   "name": "python3"
  },
  "language_info": {
   "codemirror_mode": {
    "name": "ipython",
    "version": 3
   },
   "file_extension": ".py",
   "mimetype": "text/x-python",
   "name": "python",
   "nbconvert_exporter": "python",
   "pygments_lexer": "ipython3",
   "version": "3.6.3"
  }
 },
 "nbformat": 4,
 "nbformat_minor": 2
}
